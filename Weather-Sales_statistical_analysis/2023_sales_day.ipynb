{
 "cells": [
  {
   "cell_type": "code",
   "execution_count": 1,
   "id": "1829bb1c-7a8c-4402-8035-693795c2cec0",
   "metadata": {},
   "outputs": [],
   "source": [
    "# Importera Pandas biblioteket\n",
    "import pandas as pd\n",
    "\n",
    "# OBS! Vi använder Pandas enkla inbyggda .plot funktion i den här koden istället för att importera Matplotlib"
   ]
  },
  {
   "cell_type": "code",
   "execution_count": 2,
   "id": "13f9bf7d-e072-4b0d-896d-12a37bc4020e",
   "metadata": {},
   "outputs": [],
   "source": [
    "# Skapa en DataFrame och läs in försäljningsdatafilen i den\n",
    "# OBS! Ändra namnet på filen som läses in!\n",
    "df_sales = pd.read_csv('SumUp-SalesReport_7.7.2023-13.8.2023.csv')"
   ]
  },
  {
   "cell_type": "code",
   "execution_count": 3,
   "id": "e637ec48-4fc8-4ddf-8778-3783add294d4",
   "metadata": {},
   "outputs": [],
   "source": [
    "# Formatera kolumner\n",
    "df_sales['Date'] = pd.to_datetime(df_sales['Date']) # -> datetime datatyp\n",
    "df_sales['Weekday'] = df_sales['Date'].dt.weekday # skapa en kolumn för veckodag\n",
    "df_sales['Date'] = df_sales['Date'].dt.strftime('%Y-%m-%d') # -> samma format för varje rad"
   ]
  },
  {
   "cell_type": "code",
   "execution_count": 4,
   "id": "3317c101-3d13-412e-8fbf-f3bcb5f4f1f0",
   "metadata": {},
   "outputs": [],
   "source": [
    "# Skapa pivottabeller\n",
    "# 1. total försäljning per dag\n",
    "sales_pivot = df_sales.pivot_table(\n",
    "    values='Price (Gross)',\n",
    "    index='Date',\n",
    "    aggfunc='sum'\n",
    ").reset_index()\n",
    "\n",
    "# 2. total försäljning per veckodag\n",
    "sales_pivot_weekday = df_sales.pivot_table(\n",
    "    values='Price (Gross)',\n",
    "    index=['Weekday', 'Date'],\n",
    "    aggfunc='sum'\n",
    ").reset_index()"
   ]
  },
  {
   "cell_type": "code",
   "execution_count": 5,
   "id": "72566854-9bef-4409-98c3-54fa0ab43eab",
   "metadata": {},
   "outputs": [
    {
     "data": {
      "text/plain": [
       "<Axes: title={'center': 'Total försäljning per öppen dag, 2023'}, xlabel='Datum', ylabel='Total försäljning (€)'>"
      ]
     },
     "execution_count": 5,
     "metadata": {},
     "output_type": "execute_result"
    },
    {
     "data": {
      "image/png": "[encoded data removed]",
      "text/plain": [
       "<Figure size 640x480 with 1 Axes>"
      ]
     },
     "metadata": {},
     "output_type": "display_data"
    }
   ],
   "source": [
    "# Visualisera tabellen som ett stapeldiagram\n",
    "sales_pivot.plot(x='Date', y='Price (Gross)', title='Total försäljning per öppen dag, 2023', xlabel='Datum', ylabel='Total försäljning (€)', kind='bar')"
   ]
  },
  {
   "cell_type": "code",
   "execution_count": 6,
   "id": "7d71473b-2c9a-4d15-bb79-41e27e0ccbe4",
   "metadata": {},
   "outputs": [
    {
     "data": {
      "text/html": [
       "<div>\n",
       "<style scoped>\n",
       "    .dataframe tbody tr th:only-of-type {\n",
       "        vertical-align: middle;\n",
       "    }\n",
       "\n",
       "    .dataframe tbody tr th {\n",
       "        vertical-align: top;\n",
       "    }\n",
       "\n",
       "    .dataframe thead th {\n",
       "        text-align: right;\n",
       "    }\n",
       "</style>\n",
       "<table border=\"1\" class=\"dataframe\">\n",
       "  <thead>\n",
       "    <tr style=\"text-align: right;\">\n",
       "      <th></th>\n",
       "      <th>Price (Gross)</th>\n",
       "    </tr>\n",
       "  </thead>\n",
       "  <tbody>\n",
       "    <tr>\n",
       "      <th>count</th>\n",
       "      <td>27.00</td>\n",
       "    </tr>\n",
       "    <tr>\n",
       "      <th>mean</th>\n",
       "      <td>42.30</td>\n",
       "    </tr>\n",
       "    <tr>\n",
       "      <th>std</th>\n",
       "      <td>25.59</td>\n",
       "    </tr>\n",
       "    <tr>\n",
       "      <th>min</th>\n",
       "      <td>3.50</td>\n",
       "    </tr>\n",
       "    <tr>\n",
       "      <th>25%</th>\n",
       "      <td>23.62</td>\n",
       "    </tr>\n",
       "    <tr>\n",
       "      <th>50%</th>\n",
       "      <td>37.50</td>\n",
       "    </tr>\n",
       "    <tr>\n",
       "      <th>75%</th>\n",
       "      <td>66.00</td>\n",
       "    </tr>\n",
       "    <tr>\n",
       "      <th>max</th>\n",
       "      <td>94.50</td>\n",
       "    </tr>\n",
       "  </tbody>\n",
       "</table>\n",
       "</div>"
      ],
      "text/plain": [
       "      Price (Gross)\n",
       "count         27.00\n",
       "mean          42.30\n",
       "std           25.59\n",
       "min            3.50\n",
       "25%           23.62\n",
       "50%           37.50\n",
       "75%           66.00\n",
       "max           94.50"
      ]
     },
     "execution_count": 6,
     "metadata": {},
     "output_type": "execute_result"
    }
   ],
   "source": [
    "# Visa deskriptiv statistik (datapunkter, medelvärde, standardavvikelse, minimivärde, maximivärde och kvartiler)\n",
    "sales_pivot.describe().map(\"{0:.2f}\".format)"
   ]
  },
  {
   "cell_type": "code",
   "execution_count": 7,
   "id": "e5c97a97-72bf-4554-8fdd-0dd34e8d7e04",
   "metadata": {},
   "outputs": [],
   "source": [
    "# Visa deskriptiv statistik för veckodagar (datapunkter, medelvärde, standardavvikelse, minimivärde, maximivärde och kvartiler)\n",
    "display_table = sales_pivot_weekday.groupby('Weekday')['Price (Gross)'].describe()"
   ]
  },
  {
   "cell_type": "code",
   "execution_count": 8,
   "id": "4370ab75-d790-4e5d-9d39-a1fb7d9d9ace",
   "metadata": {},
   "outputs": [
    {
     "data": {
      "text/html": [
       "<style type=\"text/css\">\n",
       "</style>\n",
       "<table id=\"T_34ed0\">\n",
       "  <caption>Deskriptiv statistik för veckodagar, 2023</caption>\n",
       "  <thead>\n",
       "    <tr>\n",
       "      <th class=\"blank level0\" >&nbsp;</th>\n",
       "      <th id=\"T_34ed0_level0_col0\" class=\"col_heading level0 col0\" >Antal värden</th>\n",
       "      <th id=\"T_34ed0_level0_col1\" class=\"col_heading level0 col1\" >Medelvärde (€)</th>\n",
       "      <th id=\"T_34ed0_level0_col2\" class=\"col_heading level0 col2\" >Standardavvikelse (€)</th>\n",
       "      <th id=\"T_34ed0_level0_col3\" class=\"col_heading level0 col3\" >Minimivärde (€)</th>\n",
       "      <th id=\"T_34ed0_level0_col4\" class=\"col_heading level0 col4\" >25% kvartil (€)</th>\n",
       "      <th id=\"T_34ed0_level0_col5\" class=\"col_heading level0 col5\" >50% kvartil (€)</th>\n",
       "      <th id=\"T_34ed0_level0_col6\" class=\"col_heading level0 col6\" >75% kvartil (€)</th>\n",
       "      <th id=\"T_34ed0_level0_col7\" class=\"col_heading level0 col7\" >Maximivärde (€)</th>\n",
       "    </tr>\n",
       "  </thead>\n",
       "  <tbody>\n",
       "    <tr>\n",
       "      <th id=\"T_34ed0_level0_row0\" class=\"row_heading level0 row0\" >Måndag</th>\n",
       "      <td id=\"T_34ed0_row0_col0\" class=\"data row0 col0\" >1.00</td>\n",
       "      <td id=\"T_34ed0_row0_col1\" class=\"data row0 col1\" >73.25</td>\n",
       "      <td id=\"T_34ed0_row0_col2\" class=\"data row0 col2\" >nan</td>\n",
       "      <td id=\"T_34ed0_row0_col3\" class=\"data row0 col3\" >73.25</td>\n",
       "      <td id=\"T_34ed0_row0_col4\" class=\"data row0 col4\" >73.25</td>\n",
       "      <td id=\"T_34ed0_row0_col5\" class=\"data row0 col5\" >73.25</td>\n",
       "      <td id=\"T_34ed0_row0_col6\" class=\"data row0 col6\" >73.25</td>\n",
       "      <td id=\"T_34ed0_row0_col7\" class=\"data row0 col7\" >73.25</td>\n",
       "    </tr>\n",
       "    <tr>\n",
       "      <th id=\"T_34ed0_level0_row1\" class=\"row_heading level0 row1\" >Tisdag</th>\n",
       "      <td id=\"T_34ed0_row1_col0\" class=\"data row1 col0\" >4.00</td>\n",
       "      <td id=\"T_34ed0_row1_col1\" class=\"data row1 col1\" >30.88</td>\n",
       "      <td id=\"T_34ed0_row1_col2\" class=\"data row1 col2\" >22.58</td>\n",
       "      <td id=\"T_34ed0_row1_col3\" class=\"data row1 col3\" >8.00</td>\n",
       "      <td id=\"T_34ed0_row1_col4\" class=\"data row1 col4\" >13.25</td>\n",
       "      <td id=\"T_34ed0_row1_col5\" class=\"data row1 col5\" >32.00</td>\n",
       "      <td id=\"T_34ed0_row1_col6\" class=\"data row1 col6\" >49.62</td>\n",
       "      <td id=\"T_34ed0_row1_col7\" class=\"data row1 col7\" >51.50</td>\n",
       "    </tr>\n",
       "    <tr>\n",
       "      <th id=\"T_34ed0_level0_row2\" class=\"row_heading level0 row2\" >Onsdag</th>\n",
       "      <td id=\"T_34ed0_row2_col0\" class=\"data row2 col0\" >5.00</td>\n",
       "      <td id=\"T_34ed0_row2_col1\" class=\"data row2 col1\" >36.20</td>\n",
       "      <td id=\"T_34ed0_row2_col2\" class=\"data row2 col2\" >18.60</td>\n",
       "      <td id=\"T_34ed0_row2_col3\" class=\"data row2 col3\" >14.00</td>\n",
       "      <td id=\"T_34ed0_row2_col4\" class=\"data row2 col4\" >27.00</td>\n",
       "      <td id=\"T_34ed0_row2_col5\" class=\"data row2 col5\" >37.00</td>\n",
       "      <td id=\"T_34ed0_row2_col6\" class=\"data row2 col6\" >38.50</td>\n",
       "      <td id=\"T_34ed0_row2_col7\" class=\"data row2 col7\" >64.50</td>\n",
       "    </tr>\n",
       "    <tr>\n",
       "      <th id=\"T_34ed0_level0_row3\" class=\"row_heading level0 row3\" >Torsdag</th>\n",
       "      <td id=\"T_34ed0_row3_col0\" class=\"data row3 col0\" >5.00</td>\n",
       "      <td id=\"T_34ed0_row3_col1\" class=\"data row3 col1\" >31.95</td>\n",
       "      <td id=\"T_34ed0_row3_col2\" class=\"data row3 col2\" >8.71</td>\n",
       "      <td id=\"T_34ed0_row3_col3\" class=\"data row3 col3\" >17.50</td>\n",
       "      <td id=\"T_34ed0_row3_col4\" class=\"data row3 col4\" >30.00</td>\n",
       "      <td id=\"T_34ed0_row3_col5\" class=\"data row3 col5\" >36.50</td>\n",
       "      <td id=\"T_34ed0_row3_col6\" class=\"data row3 col6\" >37.50</td>\n",
       "      <td id=\"T_34ed0_row3_col7\" class=\"data row3 col7\" >38.25</td>\n",
       "    </tr>\n",
       "    <tr>\n",
       "      <th id=\"T_34ed0_level0_row4\" class=\"row_heading level0 row4\" >Fredag</th>\n",
       "      <td id=\"T_34ed0_row4_col0\" class=\"data row4 col0\" >1.00</td>\n",
       "      <td id=\"T_34ed0_row4_col1\" class=\"data row4 col1\" >9.50</td>\n",
       "      <td id=\"T_34ed0_row4_col2\" class=\"data row4 col2\" >nan</td>\n",
       "      <td id=\"T_34ed0_row4_col3\" class=\"data row4 col3\" >9.50</td>\n",
       "      <td id=\"T_34ed0_row4_col4\" class=\"data row4 col4\" >9.50</td>\n",
       "      <td id=\"T_34ed0_row4_col5\" class=\"data row4 col5\" >9.50</td>\n",
       "      <td id=\"T_34ed0_row4_col6\" class=\"data row4 col6\" >9.50</td>\n",
       "      <td id=\"T_34ed0_row4_col7\" class=\"data row4 col7\" >9.50</td>\n",
       "    </tr>\n",
       "    <tr>\n",
       "      <th id=\"T_34ed0_level0_row5\" class=\"row_heading level0 row5\" >Lördag</th>\n",
       "      <td id=\"T_34ed0_row5_col0\" class=\"data row5 col0\" >5.00</td>\n",
       "      <td id=\"T_34ed0_row5_col1\" class=\"data row5 col1\" >51.50</td>\n",
       "      <td id=\"T_34ed0_row5_col2\" class=\"data row5 col2\" >26.98</td>\n",
       "      <td id=\"T_34ed0_row5_col3\" class=\"data row5 col3\" >23.00</td>\n",
       "      <td id=\"T_34ed0_row5_col4\" class=\"data row5 col4\" >28.00</td>\n",
       "      <td id=\"T_34ed0_row5_col5\" class=\"data row5 col5\" >49.00</td>\n",
       "      <td id=\"T_34ed0_row5_col6\" class=\"data row5 col6\" >73.50</td>\n",
       "      <td id=\"T_34ed0_row5_col7\" class=\"data row5 col7\" >84.00</td>\n",
       "    </tr>\n",
       "    <tr>\n",
       "      <th id=\"T_34ed0_level0_row6\" class=\"row_heading level0 row6\" >Söndag</th>\n",
       "      <td id=\"T_34ed0_row6_col0\" class=\"data row6 col0\" >6.00</td>\n",
       "      <td id=\"T_34ed0_row6_col1\" class=\"data row6 col1\" >56.25</td>\n",
       "      <td id=\"T_34ed0_row6_col2\" class=\"data row6 col2\" >34.72</td>\n",
       "      <td id=\"T_34ed0_row6_col3\" class=\"data row6 col3\" >3.50</td>\n",
       "      <td id=\"T_34ed0_row6_col4\" class=\"data row6 col4\" >35.06</td>\n",
       "      <td id=\"T_34ed0_row6_col5\" class=\"data row6 col5\" >69.50</td>\n",
       "      <td id=\"T_34ed0_row6_col6\" class=\"data row6 col6\" >75.06</td>\n",
       "      <td id=\"T_34ed0_row6_col7\" class=\"data row6 col7\" >94.50</td>\n",
       "    </tr>\n",
       "  </tbody>\n",
       "</table>\n"
      ],
      "text/plain": [
       "<pandas.io.formats.style.Styler at 0x23a1b5ded50>"
      ]
     },
     "execution_count": 8,
     "metadata": {},
     "output_type": "execute_result"
    }
   ],
   "source": [
    "# Namnge tabell, index och kolumner och visa tabellen\n",
    "display_table.index = ['Måndag', 'Tisdag', 'Onsdag', 'Torsdag', 'Fredag', 'Lördag', 'Söndag']\n",
    "display_table.rename(columns={'count': 'Antal värden', \n",
    "                              'mean': 'Medelvärde (€)', \n",
    "                              'std': 'Standardavvikelse (€)', \n",
    "                              'min': 'Minimivärde (€)', \n",
    "                              '25%': '25% kvartil (€)', \n",
    "                              '50%': '50% kvartil (€)', \n",
    "                              '75%': '75% kvartil (€)', \n",
    "                              'max': 'Maximivärde (€)'}, inplace=True)\n",
    "display_table.style.format(\"{:.2f}\").set_caption('Deskriptiv statistik för veckodagar, 2023')"
   ]
  }
 ],
 "metadata": {
  "kernelspec": {
   "display_name": "Python 3 (ipykernel)",
   "language": "python",
   "name": "python3"
  },
  "language_info": {
   "codemirror_mode": {
    "name": "ipython",
    "version": 3
   },
   "file_extension": ".py",
   "mimetype": "text/x-python",
   "name": "python",
   "nbconvert_exporter": "python",
   "pygments_lexer": "ipython3",
   "version": "3.11.7"
  }
 },
 "nbformat": 4,
 "nbformat_minor": 5
}
